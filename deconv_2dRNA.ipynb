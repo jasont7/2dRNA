{
 "cells": [
  {
   "cell_type": "code",
   "execution_count": 34,
   "metadata": {},
   "outputs": [],
   "source": [
    "import pandas as pd\n",
    "import numpy as np\n",
    "import scanpy as sc\n",
    "from sklearn.model_selection import train_test_split"
   ]
  },
  {
   "cell_type": "markdown",
   "metadata": {},
   "source": [
    "### 1. Data Loading\n",
    "Load necessary files to DataFrames, see info/stats"
   ]
  },
  {
   "cell_type": "code",
   "execution_count": 3,
   "metadata": {},
   "outputs": [],
   "source": [
    "BULK_PATH = \"input/paired/group1/bulk_RawCounts.tsv\"\n",
    "SC_DIR_PATH = \"input/paired/group1/\""
   ]
  },
  {
   "cell_type": "code",
   "execution_count": 31,
   "metadata": {},
   "outputs": [
    {
     "name": "stdout",
     "output_type": "stream",
     "text": [
      "B Matrix Sample:\n",
      "              gene_id gene_symbol  CANUCK1057-BAL-LB3B  CANUCK1047-BAL-LB5\n",
      "0  ENSG00000290825.1     DDX11L2                    2                   0\n",
      "1  ENSG00000223972.6     DDX11L1                    0                   0\n",
      "2  ENSG00000227232.6      WASH7P                   89                  81\n",
      "\n",
      "----------------------------------------------\n",
      "\n",
      "B DIMENSIONS: rows (genes) = 63187, columns (patients) = 34\n"
     ]
    }
   ],
   "source": [
    "bulk_df = pd.read_csv(BULK_PATH, sep=\"\\t\")\n",
    "\n",
    "print(\"B Matrix Sample:\\n\", bulk_df.iloc[:, :4].head(3))\n",
    "print(\"\\n----------------------------------------------\")\n",
    "print(f\"\\nB DIMENSIONS: rows (genes) = {bulk_df.shape[0]}, columns (patients) = {bulk_df.shape[1]}\")"
   ]
  },
  {
   "cell_type": "code",
   "execution_count": 33,
   "metadata": {},
   "outputs": [
    {
     "name": "stdout",
     "output_type": "stream",
     "text": [
      "S Metadata Matrix Sample:\n",
      "                 cell_id patient_id  patient_age patient_sex  cell_type_1  \\\n",
      "0  AAACCCACAATACGAA-1_1   BAL-RB-2           32      Female   Epithelial   \n",
      "1  AAACGAACACGCTATA-1_1   BAL-RB-2           32      Female  Macrophages   \n",
      "2  AACAACCCAAACTCGT-1_1   BAL-RB-2           32      Female  Macrophages   \n",
      "\n",
      "                 cell_type_2                cell_type_3          cell_type_4  \\\n",
      "0                        NaN                 Epithelial           Epithelial   \n",
      "1  Alveolar_Macrophage_CSF1R  Alveolar_Macrophage_CSF1R  Alveolar_macrophage   \n",
      "2           Macrophage_CCL18           Macrophage_CCL18  Alveolar_macrophage   \n",
      "\n",
      "                       data_source deconv_cluster  \n",
      "0  Post-covid respiratory symptoms     Epithelial  \n",
      "1  Post-covid respiratory symptoms    Macrophages  \n",
      "2  Post-covid respiratory symptoms    Macrophages  \n",
      "\n",
      "----------------------------------------------\n",
      "S Metadata Info:\n",
      "<class 'pandas.core.frame.DataFrame'>\n",
      "RangeIndex: 241924 entries, 0 to 241923\n",
      "Data columns (total 10 columns):\n",
      " #   Column          Non-Null Count   Dtype \n",
      "---  ------          --------------   ----- \n",
      " 0   cell_id         241924 non-null  object\n",
      " 1   patient_id      241924 non-null  object\n",
      " 2   patient_age     241924 non-null  int64 \n",
      " 3   patient_sex     235944 non-null  object\n",
      " 4   cell_type_1     241924 non-null  object\n",
      " 5   cell_type_2     209552 non-null  object\n",
      " 6   cell_type_3     241924 non-null  object\n",
      " 7   cell_type_4     241924 non-null  object\n",
      " 8   data_source     241924 non-null  object\n",
      " 9   deconv_cluster  241924 non-null  object\n",
      "dtypes: int64(1), object(9)\n",
      "memory usage: 18.5+ MB\n",
      "\n",
      "----------------------------------------------\n",
      "\n",
      "S METADATA DIMENSIONS: rows (patients x cells) = 241924, columns (metadata) = 10\n"
     ]
    }
   ],
   "source": [
    "sc_metadata_path = SC_DIR_PATH + \"scRNA_CT1_top200_Metadata.tsv\"\n",
    "sc_metadata_df = pd.read_csv(sc_metadata_path, sep=\"\\t\")\n",
    "\n",
    "print(\"S Metadata Matrix Sample:\\n\", sc_metadata_df.head(3))\n",
    "print(\"\\n----------------------------------------------\")\n",
    "print(\"S Metadata Info:\")\n",
    "sc_metadata_df.info()\n",
    "print(\"\\n----------------------------------------------\")\n",
    "print(f\"\\nS METADATA DIMENSIONS: rows (patients x cells) = {sc_metadata_df.shape[0]}, columns (metadata) = {sc_metadata_df.shape[1]}\")"
   ]
  },
  {
   "cell_type": "code",
   "execution_count": 32,
   "metadata": {},
   "outputs": [
    {
     "name": "stdout",
     "output_type": "stream",
     "text": [
      "\n",
      "SC GEP Matrix Sample:\n",
      "                cell_id patient_id  TUBA1A  SPA17  ACTG1  TSTD1  H1-0\n",
      "0  AAACCCACAATACGAA-1_1   BAL-RB-2       0      0      1      1     0\n",
      "1  AAACGAACACGCTATA-1_1   BAL-RB-2      81      1     64      2     0\n",
      "2  AACAACCCAAACTCGT-1_1   BAL-RB-2       4      0    106      0     0\n",
      "3  AACACACCAAATTGGA-1_1   BAL-RB-2       0      0      1      0     0\n",
      "4  AACAGGGGTCGTACTA-1_1   BAL-RB-2       0      0     16      0     0\n",
      "\n",
      "----------------------------------------------\n",
      "\n",
      "S DIMENSIONS: rows (patients x cells) = 241924, columns (genes) = 1013\n"
     ]
    }
   ],
   "source": [
    "sc_gep_path = SC_DIR_PATH + \"scRNA_CT1_top200_RawCounts.tsv\"\n",
    "sc_gep_df = pd.read_csv(sc_gep_path, sep=\"\\t\")\n",
    "\n",
    "print(\"\\nSC GEP Matrix Sample:\")\n",
    "print(sc_gep_df.iloc[:, :7].head(5))\n",
    "print(\"\\n----------------------------------------------\")\n",
    "print(f\"\\nS DIMENSIONS: rows (patients x cells) = {sc_gep_df.shape[0]}, columns (genes) = {sc_gep_df.shape[1]}\")"
   ]
  },
  {
   "cell_type": "markdown",
   "metadata": {},
   "source": [
    "### 2. Data Processing\n",
    "Data cleaning, augmentation, feature engineering, normalization, train-test split"
   ]
  },
  {
   "cell_type": "code",
   "execution_count": null,
   "metadata": {},
   "outputs": [],
   "source": []
  },
  {
   "cell_type": "markdown",
   "metadata": {},
   "source": [
    "### 3. Model Training\n",
    "Define model architecture/parameters, run training"
   ]
  },
  {
   "cell_type": "code",
   "execution_count": null,
   "metadata": {},
   "outputs": [],
   "source": []
  },
  {
   "cell_type": "markdown",
   "metadata": {},
   "source": [
    "### 4. Model Evaluation\n",
    "Extract performance metrics and visualizations for accuracy, generalizability, robustness, etc."
   ]
  },
  {
   "cell_type": "code",
   "execution_count": null,
   "metadata": {},
   "outputs": [],
   "source": []
  }
 ],
 "metadata": {
  "kernelspec": {
   "display_name": "based",
   "language": "python",
   "name": "python3"
  },
  "language_info": {
   "codemirror_mode": {
    "name": "ipython",
    "version": 3
   },
   "file_extension": ".py",
   "mimetype": "text/x-python",
   "name": "python",
   "nbconvert_exporter": "python",
   "pygments_lexer": "ipython3",
   "version": "3.11.4"
  }
 },
 "nbformat": 4,
 "nbformat_minor": 2
}
